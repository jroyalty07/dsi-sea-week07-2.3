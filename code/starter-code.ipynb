{
 "cells": [
  {
   "cell_type": "code",
   "execution_count": 2,
   "metadata": {
    "collapsed": true
   },
   "outputs": [],
   "source": [
    "import pandas as pd\n",
    "import numpy as np\n",
    "import os\n",
    "from matplotlib import pyplot as plt\n",
    "import numpy as np\n",
    "import math\n",
    "from sklearn.preprocessing import StandardScaler\n",
    "from sklearn.decomposition import PCA "
   ]
  },
  {
   "cell_type": "markdown",
   "metadata": {},
   "source": [
    "# Case #1: Congressional Voting Data"
   ]
  },
  {
   "cell_type": "markdown",
   "metadata": {},
   "source": [
    "After you've downloaded the data from the repository, go ahead and load it with Pandas"
   ]
  },
  {
   "cell_type": "code",
   "execution_count": 6,
   "metadata": {
    "collapsed": false
   },
   "outputs": [],
   "source": [
    "votes = pd.read_csv('../assets/datasets/votes.csv')\n",
    "airport = pd.read_csv('../assets/datasets/Airport_operations.csv')"
   ]
  },
  {
   "cell_type": "code",
   "execution_count": 8,
   "metadata": {
    "collapsed": false
   },
   "outputs": [
    {
     "data": {
      "text/html": [
       "<div>\n",
       "<table border=\"1\" class=\"dataframe\">\n",
       "  <thead>\n",
       "    <tr style=\"text-align: right;\">\n",
       "      <th></th>\n",
       "      <th>Class</th>\n",
       "      <th>V1</th>\n",
       "      <th>V2</th>\n",
       "      <th>V3</th>\n",
       "      <th>V4</th>\n",
       "      <th>V5</th>\n",
       "      <th>V6</th>\n",
       "      <th>V7</th>\n",
       "      <th>V8</th>\n",
       "      <th>V9</th>\n",
       "      <th>V10</th>\n",
       "      <th>V11</th>\n",
       "      <th>V12</th>\n",
       "      <th>V13</th>\n",
       "      <th>V14</th>\n",
       "      <th>V15</th>\n",
       "      <th>V16</th>\n",
       "    </tr>\n",
       "  </thead>\n",
       "  <tbody>\n",
       "    <tr>\n",
       "      <th>0</th>\n",
       "      <td>republican</td>\n",
       "      <td>n</td>\n",
       "      <td>y</td>\n",
       "      <td>n</td>\n",
       "      <td>y</td>\n",
       "      <td>y</td>\n",
       "      <td>y</td>\n",
       "      <td>n</td>\n",
       "      <td>n</td>\n",
       "      <td>n</td>\n",
       "      <td>y</td>\n",
       "      <td>NaN</td>\n",
       "      <td>y</td>\n",
       "      <td>y</td>\n",
       "      <td>y</td>\n",
       "      <td>n</td>\n",
       "      <td>y</td>\n",
       "    </tr>\n",
       "    <tr>\n",
       "      <th>1</th>\n",
       "      <td>republican</td>\n",
       "      <td>n</td>\n",
       "      <td>y</td>\n",
       "      <td>n</td>\n",
       "      <td>y</td>\n",
       "      <td>y</td>\n",
       "      <td>y</td>\n",
       "      <td>n</td>\n",
       "      <td>n</td>\n",
       "      <td>n</td>\n",
       "      <td>n</td>\n",
       "      <td>n</td>\n",
       "      <td>y</td>\n",
       "      <td>y</td>\n",
       "      <td>y</td>\n",
       "      <td>n</td>\n",
       "      <td>NaN</td>\n",
       "    </tr>\n",
       "    <tr>\n",
       "      <th>2</th>\n",
       "      <td>democrat</td>\n",
       "      <td>NaN</td>\n",
       "      <td>y</td>\n",
       "      <td>y</td>\n",
       "      <td>NaN</td>\n",
       "      <td>y</td>\n",
       "      <td>y</td>\n",
       "      <td>n</td>\n",
       "      <td>n</td>\n",
       "      <td>n</td>\n",
       "      <td>n</td>\n",
       "      <td>y</td>\n",
       "      <td>n</td>\n",
       "      <td>y</td>\n",
       "      <td>y</td>\n",
       "      <td>n</td>\n",
       "      <td>n</td>\n",
       "    </tr>\n",
       "    <tr>\n",
       "      <th>3</th>\n",
       "      <td>democrat</td>\n",
       "      <td>n</td>\n",
       "      <td>y</td>\n",
       "      <td>y</td>\n",
       "      <td>n</td>\n",
       "      <td>NaN</td>\n",
       "      <td>y</td>\n",
       "      <td>n</td>\n",
       "      <td>n</td>\n",
       "      <td>n</td>\n",
       "      <td>n</td>\n",
       "      <td>y</td>\n",
       "      <td>n</td>\n",
       "      <td>y</td>\n",
       "      <td>n</td>\n",
       "      <td>n</td>\n",
       "      <td>y</td>\n",
       "    </tr>\n",
       "    <tr>\n",
       "      <th>4</th>\n",
       "      <td>democrat</td>\n",
       "      <td>y</td>\n",
       "      <td>y</td>\n",
       "      <td>y</td>\n",
       "      <td>n</td>\n",
       "      <td>y</td>\n",
       "      <td>y</td>\n",
       "      <td>n</td>\n",
       "      <td>n</td>\n",
       "      <td>n</td>\n",
       "      <td>n</td>\n",
       "      <td>y</td>\n",
       "      <td>NaN</td>\n",
       "      <td>y</td>\n",
       "      <td>y</td>\n",
       "      <td>y</td>\n",
       "      <td>y</td>\n",
       "    </tr>\n",
       "  </tbody>\n",
       "</table>\n",
       "</div>"
      ],
      "text/plain": [
       "        Class   V1 V2 V3   V4   V5 V6 V7 V8 V9 V10  V11  V12 V13 V14 V15  V16\n",
       "0  republican    n  y  n    y    y  y  n  n  n   y  NaN    y   y   y   n    y\n",
       "1  republican    n  y  n    y    y  y  n  n  n   n    n    y   y   y   n  NaN\n",
       "2    democrat  NaN  y  y  NaN    y  y  n  n  n   n    y    n   y   y   n    n\n",
       "3    democrat    n  y  y    n  NaN  y  n  n  n   n    y    n   y   n   n    y\n",
       "4    democrat    y  y  y    n    y  y  n  n  n   n    y  NaN   y   y   y    y"
      ]
     },
     "execution_count": 8,
     "metadata": {},
     "output_type": "execute_result"
    }
   ],
   "source": [
    "votes = votes.drop('Unnamed: 0', axis = 1)\n",
    "votes.head()"
   ]
  },
  {
   "cell_type": "markdown",
   "metadata": {},
   "source": [
    "Next, let's define the x and y variables: "
   ]
  },
  {
   "cell_type": "code",
   "execution_count": 21,
   "metadata": {
    "collapsed": false
   },
   "outputs": [
    {
     "name": "stdout",
     "output_type": "stream",
     "text": [
      "[[0 1 0 ..., 1 0 1]\n",
      " [0 1 0 ..., 1 0 0]\n",
      " [0 1 1 ..., 1 0 0]\n",
      " ..., \n",
      " [0 0 0 ..., 1 0 1]\n",
      " [0 0 0 ..., 1 0 1]\n",
      " [0 1 0 ..., 1 0 0]]\n"
     ]
    }
   ],
   "source": [
    "y = votes['Class']\n",
    "x = votes.drop('Class', axis = 1)\n",
    "x = (x.values == 'y').astype(int)\n",
    "print x"
   ]
  },
  {
   "cell_type": "code",
   "execution_count": null,
   "metadata": {
    "collapsed": true
   },
   "outputs": [],
   "source": []
  },
  {
   "cell_type": "markdown",
   "metadata": {},
   "source": [
    "Next, create the covariance matrix from the standardized x-values and decompose these values to find the eigenvalues and eigenvectors"
   ]
  },
  {
   "cell_type": "code",
   "execution_count": 26,
   "metadata": {
    "collapsed": false
   },
   "outputs": [],
   "source": [
    "x_standard = StandardScaler().fit_transform(x)\n",
    "cov_mat = np.cov(x_standard.T)\n",
    "\n",
    "eigenValues, eigenVectors = np.linalg.eig(cov_mat)\n"
   ]
  },
  {
   "cell_type": "markdown",
   "metadata": {},
   "source": [
    "Now, let's check the eigenvalues: "
   ]
  },
  {
   "cell_type": "code",
   "execution_count": 27,
   "metadata": {
    "collapsed": false
   },
   "outputs": [
    {
     "name": "stdout",
     "output_type": "stream",
     "text": [
      "[ 7.102243    1.44867882  1.1998064   0.88126251  0.8248454   0.7380054\n",
      "  0.14086407  0.21188391  0.61036665  0.27622346  0.31858994  0.35967328\n",
      "  0.41340487  0.54030753  0.51431461  0.45639653]\n"
     ]
    }
   ],
   "source": [
    "print eigenValues"
   ]
  },
  {
   "cell_type": "markdown",
   "metadata": {},
   "source": [
    "And the eigenvectors: "
   ]
  },
  {
   "cell_type": "code",
   "execution_count": 30,
   "metadata": {
    "collapsed": false
   },
   "outputs": [
    {
     "name": "stdout",
     "output_type": "stream",
     "text": [
      "[[-0.18803934 -0.19357121  0.07328808  0.51751543  0.35845006  0.62089874\n",
      "  -0.05713493 -0.00747574  0.15602045 -0.03613906 -0.07010134 -0.20296072\n",
      "   0.12290505  0.07348099  0.20525446 -0.04760145]\n",
      " [ 0.05231849 -0.5860793  -0.23045319  0.37516036  0.12646973 -0.55398342\n",
      "   0.01855198 -0.10910015  0.10486865  0.0799821   0.0801356  -0.13259865\n",
      "  -0.06581724  0.07925709 -0.00808044  0.26963501]\n",
      " [-0.29660826 -0.08013044 -0.16884543 -0.01308925  0.10990706  0.03068335\n",
      "  -0.2133564  -0.06665988 -0.17958811 -0.23883742  0.56681358  0.45295072\n",
      "   0.08181081 -0.3596669   0.23464645  0.08418781]]\n"
     ]
    }
   ],
   "source": [
    "print eigenVectors[:3]"
   ]
  },
  {
   "cell_type": "markdown",
   "metadata": {},
   "source": [
    "To find the principal componants, find the eigenpairs, and sort them from highest to lowest. "
   ]
  },
  {
   "cell_type": "code",
   "execution_count": 33,
   "metadata": {
    "collapsed": false
   },
   "outputs": [],
   "source": [
    "# Pair the eigens by indexing\n",
    "eigenPairs = [(np.abs(eigenValues[i]), eigenVectors[:,i]) for i in range(len(eigenValues))]\n",
    "eigenPairs.sort()\n",
    "eigenPairs.reverse()"
   ]
  },
  {
   "cell_type": "markdown",
   "metadata": {
    "collapsed": true
   },
   "source": [
    "Now, calculate the explained variance. Recall the methods we learned in lesson 2.2!"
   ]
  },
  {
   "cell_type": "code",
   "execution_count": 36,
   "metadata": {
    "collapsed": false
   },
   "outputs": [],
   "source": [
    "eigenValSum = sum(eigenValues)\n",
    "varianceExplained = [(i / eigenValSum)*100 for i in sorted(eigenValues, reverse=True)]"
   ]
  },
  {
   "cell_type": "markdown",
   "metadata": {},
   "source": [
    "Now, calculate the explained variance and the Cumulative explained variance"
   ]
  },
  {
   "cell_type": "code",
   "execution_count": 37,
   "metadata": {
    "collapsed": true
   },
   "outputs": [],
   "source": [
    "cumulativeVarianceexplained = np.cumsum(varianceExplained)"
   ]
  },
  {
   "cell_type": "markdown",
   "metadata": {},
   "source": [
    "Now, conduct the PCA using scikit learn"
   ]
  },
  {
   "cell_type": "code",
   "execution_count": 46,
   "metadata": {
    "collapsed": false
   },
   "outputs": [
    {
     "data": {
      "text/html": [
       "<div>\n",
       "<table border=\"1\" class=\"dataframe\">\n",
       "  <thead>\n",
       "    <tr style=\"text-align: right;\">\n",
       "      <th></th>\n",
       "      <th>0</th>\n",
       "      <th>1</th>\n",
       "    </tr>\n",
       "  </thead>\n",
       "  <tbody>\n",
       "    <tr>\n",
       "      <th>0</th>\n",
       "      <td>3.575171</td>\n",
       "      <td>-0.438298</td>\n",
       "    </tr>\n",
       "    <tr>\n",
       "      <th>1</th>\n",
       "      <td>3.694934</td>\n",
       "      <td>0.895128</td>\n",
       "    </tr>\n",
       "    <tr>\n",
       "      <th>2</th>\n",
       "      <td>1.710303</td>\n",
       "      <td>2.700584</td>\n",
       "    </tr>\n",
       "    <tr>\n",
       "      <th>3</th>\n",
       "      <td>0.313965</td>\n",
       "      <td>2.318995</td>\n",
       "    </tr>\n",
       "    <tr>\n",
       "      <th>4</th>\n",
       "      <td>0.678438</td>\n",
       "      <td>2.534978</td>\n",
       "    </tr>\n",
       "  </tbody>\n",
       "</table>\n",
       "</div>"
      ],
      "text/plain": [
       "          0         1\n",
       "0  3.575171 -0.438298\n",
       "1  3.694934  0.895128\n",
       "2  1.710303  2.700584\n",
       "3  0.313965  2.318995\n",
       "4  0.678438  2.534978"
      ]
     },
     "execution_count": 46,
     "metadata": {},
     "output_type": "execute_result"
    }
   ],
   "source": [
    "PCA_sk = PCA(n_components=2)\n",
    "Y_sk = PCA_sk.fit_transform(x_standard)\n",
    "pd.DataFrame(Y_sk).head()"
   ]
  },
  {
   "cell_type": "markdown",
   "metadata": {},
   "source": [
    "# Case #2: Airport Delays"
   ]
  },
  {
   "cell_type": "code",
   "execution_count": 78,
   "metadata": {
    "collapsed": false
   },
   "outputs": [
    {
     "data": {
      "text/plain": [
       "77"
      ]
     },
     "execution_count": 78,
     "metadata": {},
     "output_type": "execute_result"
    }
   ],
   "source": [
    "airport.head()\n",
    "len(airport['airport'].value_counts())"
   ]
  },
  {
   "cell_type": "markdown",
   "metadata": {},
   "source": [
    "First, let's define the x and y variables: Airport is going to be our \"x\" variable"
   ]
  },
  {
   "cell_type": "code",
   "execution_count": 48,
   "metadata": {
    "collapsed": true
   },
   "outputs": [],
   "source": [
    "y = airport['airport']\n",
    "x = airport.drop('airport', axis = 1)\n"
   ]
  },
  {
   "cell_type": "markdown",
   "metadata": {},
   "source": [
    "Then, standardize the x variable for analysis"
   ]
  },
  {
   "cell_type": "code",
   "execution_count": 51,
   "metadata": {
    "collapsed": false
   },
   "outputs": [],
   "source": [
    "x_standard = StandardScaler().fit_transform(x)"
   ]
  },
  {
   "cell_type": "markdown",
   "metadata": {},
   "source": [
    "Next, create the covariance matrix from the standardized x-values and decompose these values to find the eigenvalues and eigenvectors"
   ]
  },
  {
   "cell_type": "code",
   "execution_count": 52,
   "metadata": {
    "collapsed": false
   },
   "outputs": [],
   "source": [
    "cov_mat = np.cov(x_standard.T)\n",
    "eigenValues, eigenVectors = np.linalg.eig(cov_mat)"
   ]
  },
  {
   "cell_type": "markdown",
   "metadata": {},
   "source": [
    "Then, check your eigenvalues and eigenvectors:"
   ]
  },
  {
   "cell_type": "code",
   "execution_count": 54,
   "metadata": {
    "collapsed": false
   },
   "outputs": [
    {
     "name": "stdout",
     "output_type": "stream",
     "text": [
      "[  6.45349601e+00   4.30952372e+00   1.21824879e+00   7.37875394e-01\n",
      "   5.10954558e-01   3.49353222e-01   1.66799275e-01   1.20220515e-01\n",
      "   7.32036815e-02   6.41924376e-02   9.59074587e-03   2.34264664e-03\n",
      "   1.64364385e-04   7.01306545e-04]\n",
      "[[-0.05747614  0.05252557 -0.80890976  0.38914338  0.01517249  0.40455823\n",
      "   0.03918196  0.01319762 -0.14376054  0.00777298  0.03107428  0.02933693\n",
      "  -0.00229607  0.001993  ]\n",
      " [ 0.11683294 -0.41190929 -0.16980855 -0.40257614  0.12274015  0.11232074\n",
      "  -0.29026653 -0.06082036 -0.07665943 -0.03325464  0.02178517 -0.02057546\n",
      "  -0.70799524  0.03171276]\n",
      " [ 0.1164079  -0.41158191 -0.17108429 -0.40387107  0.12540936  0.10989401\n",
      "  -0.29134664 -0.06552886 -0.09065779 -0.03221664  0.03615976  0.02653745\n",
      "   0.70372734 -0.03443946]]\n"
     ]
    }
   ],
   "source": [
    "print eigenValues\n",
    "print eigenVectors[:3]"
   ]
  },
  {
   "cell_type": "markdown",
   "metadata": {},
   "source": [
    "To find the principal componants, find the eigenpairs, and sort them from highest to lowest. "
   ]
  },
  {
   "cell_type": "code",
   "execution_count": 55,
   "metadata": {
    "collapsed": true
   },
   "outputs": [],
   "source": [
    "eigenPairs = [(np.abs(eigenValues[i]), eigenVectors[:,i]) for i in range(len(eigenValues))]\n",
    "eigenPairs.sort()\n",
    "eigenPairs.reverse()"
   ]
  },
  {
   "cell_type": "markdown",
   "metadata": {},
   "source": [
    "Next, Calculate the explained variance"
   ]
  },
  {
   "cell_type": "code",
   "execution_count": 64,
   "metadata": {
    "collapsed": false
   },
   "outputs": [],
   "source": [
    "eigenValSum = sum(eigenValues)\n",
    "varianceExplained = [(i / eigenValSum)*100 for i in sorted(eigenValues, reverse=True)]\n",
    "cumulativeVarianceexplained = np.cumsum(varianceExplained)"
   ]
  },
  {
   "cell_type": "markdown",
   "metadata": {},
   "source": [
    "Finally, conduct the PCA - use the results about to guide your selection of \"n\" componants"
   ]
  },
  {
   "cell_type": "code",
   "execution_count": 75,
   "metadata": {
    "collapsed": false
   },
   "outputs": [
    {
     "data": {
      "image/png": "[encoded data removed]",
      "text/plain": [
       "<matplotlib.figure.Figure at 0x115dbab50>"
      ]
     },
     "metadata": {},
     "output_type": "display_data"
    },
    {
     "data": {
      "text/html": [
       "<div>\n",
       "<table border=\"1\" class=\"dataframe\">\n",
       "  <thead>\n",
       "    <tr style=\"text-align: right;\">\n",
       "      <th></th>\n",
       "      <th>0</th>\n",
       "      <th>1</th>\n",
       "      <th>2</th>\n",
       "      <th>3</th>\n",
       "      <th>4</th>\n",
       "      <th>5</th>\n",
       "      <th>6</th>\n",
       "      <th>7</th>\n",
       "      <th>8</th>\n",
       "      <th>9</th>\n",
       "      <th>10</th>\n",
       "      <th>11</th>\n",
       "    </tr>\n",
       "  </thead>\n",
       "  <tbody>\n",
       "    <tr>\n",
       "      <th>0</th>\n",
       "      <td>-2.012558</td>\n",
       "      <td>0.667541</td>\n",
       "      <td>-1.520228</td>\n",
       "      <td>-0.686484</td>\n",
       "      <td>-0.240474</td>\n",
       "      <td>-0.666113</td>\n",
       "      <td>0.087975</td>\n",
       "      <td>0.025549</td>\n",
       "      <td>-0.104560</td>\n",
       "      <td>0.077082</td>\n",
       "      <td>0.011318</td>\n",
       "      <td>0.004174</td>\n",
       "    </tr>\n",
       "    <tr>\n",
       "      <th>1</th>\n",
       "      <td>-2.427122</td>\n",
       "      <td>0.612851</td>\n",
       "      <td>-1.211047</td>\n",
       "      <td>-0.603270</td>\n",
       "      <td>-0.227970</td>\n",
       "      <td>-0.649278</td>\n",
       "      <td>0.145931</td>\n",
       "      <td>-0.011412</td>\n",
       "      <td>-0.136642</td>\n",
       "      <td>-0.006526</td>\n",
       "      <td>0.006245</td>\n",
       "      <td>-0.004909</td>\n",
       "    </tr>\n",
       "    <tr>\n",
       "      <th>2</th>\n",
       "      <td>-1.893147</td>\n",
       "      <td>0.923550</td>\n",
       "      <td>-0.911623</td>\n",
       "      <td>-0.536109</td>\n",
       "      <td>0.056837</td>\n",
       "      <td>-0.478633</td>\n",
       "      <td>0.020849</td>\n",
       "      <td>-0.063309</td>\n",
       "      <td>-0.166373</td>\n",
       "      <td>0.031531</td>\n",
       "      <td>-0.007005</td>\n",
       "      <td>-0.021395</td>\n",
       "    </tr>\n",
       "    <tr>\n",
       "      <th>3</th>\n",
       "      <td>-1.476137</td>\n",
       "      <td>0.678315</td>\n",
       "      <td>-0.663351</td>\n",
       "      <td>-0.403409</td>\n",
       "      <td>0.438648</td>\n",
       "      <td>-0.240875</td>\n",
       "      <td>0.337194</td>\n",
       "      <td>-0.136831</td>\n",
       "      <td>-0.165716</td>\n",
       "      <td>0.039453</td>\n",
       "      <td>-0.016425</td>\n",
       "      <td>-0.042700</td>\n",
       "    </tr>\n",
       "    <tr>\n",
       "      <th>4</th>\n",
       "      <td>-2.043187</td>\n",
       "      <td>0.714364</td>\n",
       "      <td>-0.348743</td>\n",
       "      <td>-0.221570</td>\n",
       "      <td>0.349882</td>\n",
       "      <td>-0.327821</td>\n",
       "      <td>0.096722</td>\n",
       "      <td>0.033030</td>\n",
       "      <td>-0.146933</td>\n",
       "      <td>0.095856</td>\n",
       "      <td>-0.020141</td>\n",
       "      <td>0.000502</td>\n",
       "    </tr>\n",
       "  </tbody>\n",
       "</table>\n",
       "</div>"
      ],
      "text/plain": [
       "         0         1         2         3         4         5         6   \\\n",
       "0 -2.012558  0.667541 -1.520228 -0.686484 -0.240474 -0.666113  0.087975   \n",
       "1 -2.427122  0.612851 -1.211047 -0.603270 -0.227970 -0.649278  0.145931   \n",
       "2 -1.893147  0.923550 -0.911623 -0.536109  0.056837 -0.478633  0.020849   \n",
       "3 -1.476137  0.678315 -0.663351 -0.403409  0.438648 -0.240875  0.337194   \n",
       "4 -2.043187  0.714364 -0.348743 -0.221570  0.349882 -0.327821  0.096722   \n",
       "\n",
       "         7         8         9         10        11  \n",
       "0  0.025549 -0.104560  0.077082  0.011318  0.004174  \n",
       "1 -0.011412 -0.136642 -0.006526  0.006245 -0.004909  \n",
       "2 -0.063309 -0.166373  0.031531 -0.007005 -0.021395  \n",
       "3 -0.136831 -0.165716  0.039453 -0.016425 -0.042700  \n",
       "4  0.033030 -0.146933  0.095856 -0.020141  0.000502  "
      ]
     },
     "execution_count": 75,
     "metadata": {},
     "output_type": "execute_result"
    }
   ],
   "source": [
    "PCA_sk = PCA(n_components=12)\n",
    "Y_sk = PCA_sk.fit_transform(x_standard)\n",
    "\n",
    "plt.plot(np.cumsum(PCA_sk.explained_variance_ratio_))\n",
    "plt.title(\"ELBOWS!!!\")\n",
    "plt.show()\n",
    "pd.DataFrame(Y_sk).head()\n",
    "# would pick 2, this is EDA"
   ]
  },
  {
   "cell_type": "code",
   "execution_count": null,
   "metadata": {
    "collapsed": true
   },
   "outputs": [],
   "source": []
  },
  {
   "cell_type": "code",
   "execution_count": null,
   "metadata": {
    "collapsed": true
   },
   "outputs": [],
   "source": []
  }
 ],
 "metadata": {
  "anaconda-cloud": {},
  "kernelspec": {
   "display_name": "Python [conda root]",
   "language": "python",
   "name": "conda-root-py"
  },
  "language_info": {
   "codemirror_mode": {
    "name": "ipython",
    "version": 2
   },
   "file_extension": ".py",
   "mimetype": "text/x-python",
   "name": "python",
   "nbconvert_exporter": "python",
   "pygments_lexer": "ipython2",
   "version": "2.7.12"
  }
 },
 "nbformat": 4,
 "nbformat_minor": 0
}
